{
  "nbformat": 4,
  "nbformat_minor": 0,
  "metadata": {
    "colab": {
      "provenance": [],
      "authorship_tag": "ABX9TyO25fQCxgY0ZiY2gFpPvqPk",
      "include_colab_link": true
    },
    "kernelspec": {
      "name": "python3",
      "display_name": "Python 3"
    },
    "language_info": {
      "name": "python"
    }
  },
  "cells": [
    {
      "cell_type": "markdown",
      "metadata": {
        "id": "view-in-github",
        "colab_type": "text"
      },
      "source": [
        "<a href=\"https://colab.research.google.com/github/Larry1986/BCF-Workshop/blob/main/class_test.ipynb\" target=\"_parent\"><img src=\"https://colab.research.google.com/assets/colab-badge.svg\" alt=\"Open In Colab\"/></a>"
      ]
    },
    {
      "cell_type": "code",
      "source": [
        "print('hello world ')"
      ],
      "metadata": {
        "colab": {
          "base_uri": "https://localhost:8080/"
        },
        "id": "nhpyLLe7MWHJ",
        "outputId": "357aaa0c-516c-462d-9e69-46704cdf820f"
      },
      "execution_count": 7,
      "outputs": [
        {
          "output_type": "stream",
          "name": "stdout",
          "text": [
            "hello world \n"
          ]
        }
      ]
    },
    {
      "cell_type": "code",
      "source": [
        "a = 1\n",
        "b = 2\n",
        "print(a+b)\n"
      ],
      "metadata": {
        "colab": {
          "base_uri": "https://localhost:8080/"
        },
        "id": "ssNqJD6jNwJp",
        "outputId": "b2d5fbf2-3f41-4493-894d-bc7e02fbbeaa"
      },
      "execution_count": 8,
      "outputs": [
        {
          "output_type": "stream",
          "name": "stdout",
          "text": [
            "3\n"
          ]
        }
      ]
    },
    {
      "cell_type": "markdown",
      "source": [
        "# 这是一段程序\n",
        "我们需要利用到下面的公式：\n",
        "$$\n",
        "f(x)=a\\theta+b\\beta\n",
        "$$"
      ],
      "metadata": {
        "id": "o1_JZpz5Owmh"
      }
    },
    {
      "cell_type": "code",
      "source": [
        "c= a+b"
      ],
      "metadata": {
        "id": "UYhKp_9oO2hG"
      },
      "execution_count": null,
      "outputs": []
    },
    {
      "cell_type": "markdown",
      "source": [
        "# 这是我建立的第二个笔记"
      ],
      "metadata": {
        "id": "F4Qyrxf_RDn7"
      }
    }
  ]
}